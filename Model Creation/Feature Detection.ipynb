{
 "cells": [
  {
   "cell_type": "code",
   "execution_count": 1,
   "id": "fdd99887",
   "metadata": {},
   "outputs": [],
   "source": [
    "import cv2\n",
    "import os"
   ]
  },
  {
   "cell_type": "code",
   "execution_count": 2,
   "id": "c78bcc08",
   "metadata": {},
   "outputs": [],
   "source": [
    "sift = cv2.SIFT_create()\n",
    "orb = cv2.ORB_create()"
   ]
  },
  {
   "cell_type": "code",
   "execution_count": 3,
   "id": "515fb0b0",
   "metadata": {},
   "outputs": [],
   "source": [
    "img1 = cv2.imread('Image/20.jpg')\n",
    "img3 = cv2.imread('OIP.jpg')\n",
    "img4 = cv2.imread('10.jpg')"
   ]
  },
  {
   "cell_type": "code",
   "execution_count": 7,
   "id": "99b1aad9",
   "metadata": {},
   "outputs": [
    {
     "ename": "SyntaxError",
     "evalue": "(unicode error) 'unicodeescape' codec can't decode bytes in position 2-3: truncated \\UXXXXXXXX escape (2609624318.py, line 1)",
     "output_type": "error",
     "traceback": [
      "\u001b[1;36m  Cell \u001b[1;32mIn[7], line 1\u001b[1;36m\u001b[0m\n\u001b[1;33m    path = 'C:\\Users\\user\\Project\\Final\\Image'\u001b[0m\n\u001b[1;37m                                              ^\u001b[0m\n\u001b[1;31mSyntaxError\u001b[0m\u001b[1;31m:\u001b[0m (unicode error) 'unicodeescape' codec can't decode bytes in position 2-3: truncated \\UXXXXXXXX escape\n"
     ]
    }
   ],
   "source": [
    "path = 'C:\\Users\\user\\Project\\Final\\Image'\n",
    "\n",
    "images = []\n",
    "classNames = []\n",
    "\n",
    "myList = os.listdir(path)\n",
    "myList = myList[:-1]"
   ]
  },
  {
   "cell_type": "code",
   "execution_count": 6,
   "id": "fff0a8bc",
   "metadata": {},
   "outputs": [
    {
     "ename": "error",
     "evalue": "OpenCV(4.8.0) D:\\a\\opencv-python\\opencv-python\\opencv\\modules\\imgproc\\src\\resize.cpp:4062: error: (-215:Assertion failed) !ssize.empty() in function 'cv::resize'\n",
     "output_type": "error",
     "traceback": [
      "\u001b[1;31m---------------------------------------------------------------------------\u001b[0m",
      "\u001b[1;31merror\u001b[0m                                     Traceback (most recent call last)",
      "Cell \u001b[1;32mIn[6], line 3\u001b[0m\n\u001b[0;32m      1\u001b[0m \u001b[38;5;28;01mfor\u001b[39;00m cl \u001b[38;5;129;01min\u001b[39;00m myList:\n\u001b[0;32m      2\u001b[0m     imgCur \u001b[38;5;241m=\u001b[39m cv2\u001b[38;5;241m.\u001b[39mimread(\u001b[38;5;124mf\u001b[39m\u001b[38;5;124m'\u001b[39m\u001b[38;5;132;01m{\u001b[39;00mpath\u001b[38;5;132;01m}\u001b[39;00m\u001b[38;5;124m/\u001b[39m\u001b[38;5;132;01m{\u001b[39;00mcl\u001b[38;5;132;01m}\u001b[39;00m\u001b[38;5;124m'\u001b[39m , \u001b[38;5;241m0\u001b[39m)\n\u001b[1;32m----> 3\u001b[0m     imgCur \u001b[38;5;241m=\u001b[39m \u001b[43mcv2\u001b[49m\u001b[38;5;241;43m.\u001b[39;49m\u001b[43mresize\u001b[49m\u001b[43m(\u001b[49m\u001b[43mimgCur\u001b[49m\u001b[43m,\u001b[49m\u001b[43m \u001b[49m\u001b[43m(\u001b[49m\u001b[38;5;241;43m640\u001b[39;49m\u001b[43m,\u001b[49m\u001b[43m \u001b[49m\u001b[38;5;241;43m640\u001b[39;49m\u001b[43m)\u001b[49m\u001b[43m)\u001b[49m\n\u001b[0;32m      5\u001b[0m     images\u001b[38;5;241m.\u001b[39mappend(imgCur)\n\u001b[0;32m      6\u001b[0m     classNames\u001b[38;5;241m.\u001b[39mappend(os\u001b[38;5;241m.\u001b[39mpath\u001b[38;5;241m.\u001b[39msplitext(cl)[\u001b[38;5;241m0\u001b[39m])\n",
      "\u001b[1;31merror\u001b[0m: OpenCV(4.8.0) D:\\a\\opencv-python\\opencv-python\\opencv\\modules\\imgproc\\src\\resize.cpp:4062: error: (-215:Assertion failed) !ssize.empty() in function 'cv::resize'\n"
     ]
    }
   ],
   "source": [
    "for cl in myList:\n",
    "    imgCur = cv2.imread(f'{path}/{cl}' , 0)\n",
    "    imgCur = cv2.resize(imgCur, (640, 640))\n",
    "\n",
    "    images.append(imgCur)\n",
    "    classNames.append(os.path.splitext(cl)[0])\n",
    "print(classNames)"
   ]
  },
  {
   "cell_type": "code",
   "execution_count": 38,
   "id": "89f2acc0",
   "metadata": {},
   "outputs": [],
   "source": [
    "def findDes(images):\n",
    "    desList = []\n",
    "    for img in images:\n",
    "#         kp , des = orb.detectAndCompute(img , None)\n",
    "        kp , des = sift.detectAndCompute(img , None)\n",
    "        desList.append(des)\n",
    "    return desList"
   ]
  },
  {
   "cell_type": "code",
   "execution_count": 39,
   "id": "f99ab133",
   "metadata": {},
   "outputs": [],
   "source": [
    "def findID(img , desList, thres = 15):\n",
    "#     thres = 0\n",
    "#     FLANN_INDEX_KDTREE = 0\n",
    "#     index_params = dict(algorithm = FLANN_INDEX_KDTREE, trees = 5)\n",
    "#     search_params = dict(checks=50) \n",
    "    \n",
    "#     kp2,des2 = orb.detectAndCompute(img , None)\n",
    "    kp2 , des2 = sift.detectAndCompute(img , None)\n",
    "    \n",
    "#     bf = cv2.BFMatcher()\n",
    "#     flann = cv2.FlannBasedMatcher(index_params,search_params)\n",
    "\n",
    "    matchList = []\n",
    "    TrueMatch = -1 \n",
    "    \n",
    "    try:\n",
    "        for des in desList:\n",
    "#             matches = flann.knnMatch(des , des2 , k = 2)\n",
    "            matches = cv2.FlannBasedMatcher({'algorithm':1 , 'trees':10}, {}).knnMatch(des,des2,k=2)\n",
    "            good = []\n",
    "            for m , n in matches:\n",
    "                if m.distance < 0.75 * n.distance:\n",
    "                    good.append([m])\n",
    "            matchList.append(len(good))\n",
    "    except:\n",
    "        pass\n",
    "    \n",
    "    if len(matchList) != 0:\n",
    "        if max(matchList) > thres:\n",
    "            TrueMatch = matchList.index(max(matchList))\n",
    "    \n",
    "    print(matchList)\n",
    "    return TrueMatch"
   ]
  },
  {
   "cell_type": "code",
   "execution_count": 40,
   "id": "0e560cad",
   "metadata": {},
   "outputs": [],
   "source": [
    "desList = findDes(images)"
   ]
  },
  {
   "cell_type": "code",
   "execution_count": 41,
   "id": "2040fae8",
   "metadata": {},
   "outputs": [
    {
     "name": "stdout",
     "output_type": "stream",
     "text": [
      "(3060, 128)\n",
      "(3528, 128)\n",
      "(3074, 128)\n",
      "(3083, 128)\n",
      "(4266, 128)\n",
      "(4011, 128)\n",
      "(3273, 128)\n"
     ]
    }
   ],
   "source": [
    "for des in desList:\n",
    "    print(des.shape)"
   ]
  },
  {
   "cell_type": "code",
   "execution_count": 9,
   "id": "c9830886",
   "metadata": {},
   "outputs": [
    {
     "ename": "NameError",
     "evalue": "name 'desList' is not defined",
     "output_type": "error",
     "traceback": [
      "\u001b[1;31m---------------------------------------------------------------------------\u001b[0m",
      "\u001b[1;31mNameError\u001b[0m                                 Traceback (most recent call last)",
      "Cell \u001b[1;32mIn[9], line 9\u001b[0m\n\u001b[0;32m      6\u001b[0m img2 \u001b[38;5;241m=\u001b[39m cv2\u001b[38;5;241m.\u001b[39mimread(\u001b[38;5;124m'\u001b[39m\u001b[38;5;124m10.jpg\u001b[39m\u001b[38;5;124m'\u001b[39m)\n\u001b[0;32m      7\u001b[0m \u001b[38;5;66;03m# img2 = cv2.cvtColor(img2, cv2.COLOR_BGR2GRAY)\u001b[39;00m\n\u001b[1;32m----> 9\u001b[0m result \u001b[38;5;241m=\u001b[39m findID(img2,\u001b[43mdesList\u001b[49m)\n\u001b[0;32m     10\u001b[0m \u001b[38;5;28mprint\u001b[39m(result)\n",
      "\u001b[1;31mNameError\u001b[0m: name 'desList' is not defined"
     ]
    }
   ],
   "source": [
    "# classNames = ['10', '100', '1000', '20', '5', '50', '500']\n",
    "\n",
    "# img2 = cv2.imread('50.jpg')\n",
    "# img2 = cv2.imread('Image/20.jpg')\n",
    "# img2 = cv2.imread('OIP.jpg')\n",
    "img2 = cv2.imread('10.jpg')\n",
    "# img2 = cv2.cvtColor(img2, cv2.COLOR_BGR2GRAY)\n",
    "\n",
    "result = findID(img2,desList)\n",
    "print(result)"
   ]
  },
  {
   "cell_type": "code",
   "execution_count": null,
   "id": "156c8781",
   "metadata": {},
   "outputs": [],
   "source": [
    "[20629, 516, 391, 458, 471, 406, 450]\n",
    "600"
   ]
  },
  {
   "cell_type": "code",
   "execution_count": 19,
   "id": "a24c57bc",
   "metadata": {},
   "outputs": [],
   "source": [
    "cap = cv2.VideoCapture(1)\n",
    "# cap.set(3, 240)  # Width\n",
    "# cap.set(4, 240)\n",
    "# cap.set(CV_CAP_PROP_BUFFERSIZE, 3);"
   ]
  },
  {
   "cell_type": "code",
   "execution_count": null,
   "id": "fa12f056",
   "metadata": {},
   "outputs": [
    {
     "name": "stdout",
     "output_type": "stream",
     "text": [
      "[122, 95, 73, 92, 81, 97, 73]\n",
      "[117, 101, 72, 97, 96, 100, 78]\n",
      "[114, 100, 73, 93, 85, 92, 65]\n",
      "[112, 96, 66, 93, 83, 100, 71]\n",
      "[111, 93, 67, 92, 90, 100, 70]\n",
      "[115, 96, 70, 93, 81, 96, 71]\n",
      "[113, 103, 71, 86, 84, 99, 73]\n",
      "[114, 97, 69, 90, 80, 90, 68]\n",
      "[110, 99, 69, 84, 93, 94, 67]\n",
      "[109, 96, 69, 85, 82, 99, 74]\n",
      "[112, 100, 75, 93, 83, 102, 70]\n",
      "[108, 103, 63, 90, 82, 84, 70]\n",
      "[114, 94, 78, 92, 94, 93, 73]\n",
      "[114, 100, 71, 91, 93, 93, 73]\n",
      "[111, 103, 73, 90, 93, 91, 72]\n",
      "[455, 273, 339, 373, 285, 693, 482]\n",
      "[186, 112, 102, 99, 121, 124, 96]\n",
      "[195, 203, 267, 230, 156, 250, 217]\n",
      "[256, 175, 161, 220, 152, 481, 357]\n",
      "[174, 166, 141, 179, 143, 481, 292]\n",
      "[156, 135, 132, 138, 121, 436, 313]\n",
      "[210, 185, 172, 210, 167, 552, 389]\n",
      "[178, 157, 135, 180, 190, 141, 168]\n",
      "[377, 167, 182, 291, 198, 408, 297]\n",
      "[259, 156, 155, 240, 144, 537, 317]\n",
      "[205, 174, 168, 201, 158, 491, 413]\n",
      "[435, 257, 300, 261, 270, 206, 263]\n",
      "[530, 325, 320, 394, 402, 222, 330]\n",
      "[272, 180, 171, 159, 158, 157, 191]\n",
      "[317, 214, 224, 235, 170, 162, 237]\n",
      "[319, 170, 154, 154, 138, 173, 153]\n",
      "[247, 180, 185, 157, 134, 295, 171]\n",
      "[307, 188, 166, 223, 152, 196, 212]\n",
      "[315, 179, 181, 215, 163, 231, 240]\n",
      "[256, 161, 141, 156, 157, 158, 180]\n",
      "[383, 246, 322, 282, 241, 298, 275]\n",
      "[113, 98, 76, 96, 84, 89, 66]\n",
      "[118, 97, 64, 85, 79, 104, 74]\n",
      "[109, 101, 73, 92, 85, 96, 72]\n",
      "[113, 95, 71, 94, 89, 93, 75]\n",
      "[114, 101, 80, 95, 78, 99, 72]\n",
      "[113, 103, 73, 87, 87, 98, 71]\n",
      "[109, 99, 70, 96, 78, 97, 72]\n",
      "[389, 250, 258, 340, 232, 333, 341]\n",
      "[189, 153, 116, 143, 122, 119, 190]\n",
      "[329, 173, 245, 266, 289, 216, 219]\n",
      "[313, 151, 192, 211, 203, 331, 268]\n",
      "[279, 173, 159, 197, 145, 261, 187]\n",
      "[271, 151, 150, 191, 154, 163, 158]\n",
      "[303, 163, 203, 203, 183, 190, 214]\n",
      "[327, 132, 204, 187, 112, 259, 236]\n",
      "[322, 138, 205, 154, 206, 344, 190]\n",
      "[402, 238, 265, 393, 415, 277, 237]\n",
      "[152, 226, 143, 270, 211, 230, 194]\n",
      "[222, 203, 212, 286, 181, 417, 209]\n",
      "[213, 197, 139, 244, 166, 162, 175]\n",
      "[79, 71, 75, 96, 84, 95, 68]\n",
      "[149, 170, 176, 146, 167, 191, 151]\n",
      "[149, 170, 176, 146, 167, 191, 151]\n",
      "[73, 94, 91, 105, 58, 167, 89]\n"
     ]
    }
   ],
   "source": [
    "Descriptor = readDescriptor()\n",
    "\n",
    "while True:\n",
    "    success , img2 = cap.read()\n",
    "    img2 = cv2.resize(img2, (320, 220))\n",
    "    imgOriginal = img2.copy()\n",
    "    img2 = cv2.cvtColor(img2, cv2.COLOR_BGR2GRAY)\n",
    "    \n",
    "#     id = findID(img2, desList)\n",
    "    id = findID(img2, Descriptor)\n",
    "    \n",
    "    if id != -1:\n",
    "        cv2.putText(imgOriginal , classNames[id] , (50,50) , cv2.FONT_HERSHEY_COMPLEX , 1 , (0,0,255) , 2)\n",
    "    \n",
    "    cv2.imshow('img2', imgOriginal)\n",
    "    cv2.waitKey(10) & 0xFF == ord('q')\n"
   ]
  },
  {
   "cell_type": "code",
   "execution_count": 42,
   "id": "9da2a61e",
   "metadata": {},
   "outputs": [],
   "source": [
    "import numpy as np\n",
    "\n",
    "def writeDescriptor():\n",
    "    id = 0\n",
    "\n",
    "    for des in desList:\n",
    "        Descpath = f'Description/{classNames[id]}'\n",
    "\n",
    "        # Open a binary file in write mode\n",
    "        file = open(Descpath, \"wb\")\n",
    "\n",
    "        # Save array to the file\n",
    "        np.save(file, des)\n",
    "\n",
    "        # Close the file\n",
    "        file.close\n",
    "\n",
    "        id += 1\n",
    "\n",
    "writeDescriptor()"
   ]
  },
  {
   "cell_type": "code",
   "execution_count": 20,
   "id": "99d8fe99",
   "metadata": {},
   "outputs": [],
   "source": [
    "import numpy as np\n",
    "\n",
    "def readDescriptor():\n",
    "    classNames = ['10', '100', '1000', '20', '5', '50', '500']\n",
    "    Descriptor = []\n",
    "    \n",
    "    for id in classNames:\n",
    "        file = open(f'Description/{id}', \"rb\")\n",
    "\n",
    "    # Read the file to numpy array\n",
    "        arr = np.load(file)\n",
    "        \n",
    "        Descriptor.append(arr)\n",
    "    # Close the file\n",
    "        file.close\n",
    "    return Descriptor"
   ]
  },
  {
   "cell_type": "code",
   "execution_count": 2,
   "id": "7e62d2f8",
   "metadata": {},
   "outputs": [],
   "source": [
    "Descriptor = readDescriptor()"
   ]
  },
  {
   "cell_type": "code",
   "execution_count": 6,
   "id": "44a9c879",
   "metadata": {},
   "outputs": [],
   "source": [
    "currencies = ['fifty','five','fivehundred','hundred','ten','thousand','twenty']\n",
    "classNames = ['ten', 'hundred', 'thousand', 'twenty', 'five', 'fifty', 'fivehundred']\n",
    "\n",
    "matching = {\n",
    "    \"ten\" : \"10\",\n",
    "    \"hundred\" : \"100\",\n",
    "    \"thousand\" : \"1000\",\n",
    "    \"twenty\" : \"20\",\n",
    "    \"five\" : \"5\",\n",
    "    \"fifty\" : \"50\",\n",
    "    \"fivehundred\" : \"500\",\n",
    "}"
   ]
  },
  {
   "cell_type": "code",
   "execution_count": 78,
   "id": "5a6ffd85",
   "metadata": {},
   "outputs": [],
   "source": [
    "import numpy as np\n",
    "\n",
    "def readDescriptor(id):\n",
    "    classNames = ['10', '100', '1000', '20', '5', '50', '500']\n",
    "    Descriptor = []\n",
    "    \n",
    "    id = matching[id]\n",
    "    \n",
    "    file = open(f'Description/{id}', \"rb\")\n",
    "\n",
    "    # Read the file to numpy array\n",
    "    arr = np.load(file)\n",
    "\n",
    "    Descriptor.append(arr)\n",
    "    # Close the file\n",
    "    file.close\n",
    "    return Descriptor\n",
    "\n"
   ]
  },
  {
   "cell_type": "code",
   "execution_count": 21,
   "id": "3fc89356",
   "metadata": {},
   "outputs": [],
   "source": [
    "from PIL import ImageFile, Image\n",
    "from keras.preprocessing import image\n",
    "import numpy as np"
   ]
  },
  {
   "cell_type": "code",
   "execution_count": 22,
   "id": "07bdaa91",
   "metadata": {},
   "outputs": [],
   "source": [
    "img = Image.open('OIP.jpg')\n",
    "img = img.resize((480,480) , Image.NEAREST)\n",
    "x1 = image.img_to_array(img)\n",
    "x1 = x1.astype(np.uint8)"
   ]
  },
  {
   "cell_type": "code",
   "execution_count": 32,
   "id": "cc00543b",
   "metadata": {},
   "outputs": [
    {
     "name": "stdout",
     "output_type": "stream",
     "text": [
      "[20633, 2755, 1299, 420, 494, 2270, 540]\n",
      "0\n"
     ]
    }
   ],
   "source": [
    "result = findID(img4,Descriptor)\n",
    "print(result)"
   ]
  },
  {
   "cell_type": "code",
   "execution_count": null,
   "id": "ca9d93e1",
   "metadata": {},
   "outputs": [],
   "source": []
  }
 ],
 "metadata": {
  "kernelspec": {
   "display_name": "Python 3 (ipykernel)",
   "language": "python",
   "name": "python3"
  },
  "language_info": {
   "codemirror_mode": {
    "name": "ipython",
    "version": 3
   },
   "file_extension": ".py",
   "mimetype": "text/x-python",
   "name": "python",
   "nbconvert_exporter": "python",
   "pygments_lexer": "ipython3",
   "version": "3.10.9"
  }
 },
 "nbformat": 4,
 "nbformat_minor": 5
}
