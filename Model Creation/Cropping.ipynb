{
 "cells": [
  {
   "cell_type": "code",
   "execution_count": 1,
   "id": "ed7e3d30",
   "metadata": {},
   "outputs": [],
   "source": [
    "import cv2\n",
    "import os\n",
    "import tkinter as tk\n",
    "from tkinter import ttk"
   ]
  },
  {
   "cell_type": "code",
   "execution_count": 47,
   "id": "e97a4d0a",
   "metadata": {},
   "outputs": [],
   "source": [
    "class Crop:    \n",
    "    def __init__(self):\n",
    "        self.x1 = 0\n",
    "        self.y1 = 0\n",
    "        self.x2 = 0\n",
    "        self.y2 = 0\n",
    "        self.dictionary = {}\n",
    "    \n",
    "    def button_clicked(self ,text_widget):\n",
    "        item = [self.x1,self.y1,self.x2,self.y2]\n",
    "        text_content = text_widget.get('1.0',\"end-1c\")\n",
    "        self.dictionary[text_content] = item\n",
    "        print(self.dictionary)\n",
    "    \n",
    "    def searchbar(self):\n",
    "        root = tk.Tk()\n",
    "        root.geometry('300x200')\n",
    "\n",
    "        text_widget = tk.Text(root)\n",
    "        text_widget.insert('insert','Enter')\n",
    "\n",
    "        button = ttk.Button(root, text='Click Me', command = lambda:self.button_clicked(text_widget))\n",
    "        button.pack()\n",
    "        text_widget.pack(anchor = \"w\", padx = 50, pady = 50)\n",
    "\n",
    "        root.mainloop()\n",
    "    \n",
    "    def on_change(self,xmin, ymin, xmax , ymax):\n",
    "        self.x1 = xmin\n",
    "        self.y1 = ymin\n",
    "        self.x2 = xmax\n",
    "        self.y2 = ymax\n",
    "        \n",
    "        h, w = img.shape[0:2]\n",
    "        neww = 900\n",
    "        newh = int(neww*(h/w))\n",
    "        \n",
    "        imageCopy = img.copy()\n",
    "        cv2.rectangle(imageCopy, (self.x1,self.y1), (self.x2,self.y2), color=(0,0,0), thickness=15)\n",
    "        \n",
    "        imageCopy = cv2.resize(imageCopy, (neww, newh))\n",
    "\n",
    "        cv2.imshow(windowName, imageCopy)\n",
    "        \n",
    "    def display(self,windowName , img):\n",
    "        h, w = img.shape[0:2]\n",
    "        neww = 900\n",
    "        newh = int(neww*(h/w))\n",
    "        \n",
    "        img = cv2.resize(img, (neww, newh))\n",
    "\n",
    "        print(img.shape , neww,newh)\n",
    "        \n",
    "        cv2.imshow(windowName , img)\n",
    "\n",
    "        cv2.createTrackbar('Xmin', windowName, 0, w, lambda value : self.on_change(xmin = value ,ymin = self.y1 , xmax = self.x2 , ymax = self.y2 ))\n",
    "        cv2.createTrackbar('Ymin', windowName, 0, h, lambda value : self.on_change(xmin = self.x1 , ymin = value , xmax = self.x2 , ymax = self.y2))\n",
    "        cv2.createTrackbar('Xmax', windowName, 0, w, lambda value : self.on_change(xmin = self.x1 , ymin = self.y1 , xmax = value , ymax = self.y2))\n",
    "        cv2.createTrackbar('Ymax',windowName, 0, h, lambda value : self.on_change(xmin = self.x1 , ymin = self.y1 , xmax = self.x2 , ymax = value))\n",
    "\n",
    "        self.searchbar()\n",
    "\n",
    "        cv2.waitKey(0)\n",
    "        cv2.destroyAllWindows()\n",
    "   \n",
    "    def save_crop(self,directory,img):\n",
    "        for keys , values in self.dictionary.items():\n",
    "            crop_image = img[values[1]:values[3] , values[0]:values[2]]\n",
    "            filename = directory + keys + '.jpg'\n",
    "            print(filename)\n",
    "            cv2.imwrite(filename,crop_image)\n",
    "            print(filename)\n"
   ]
  },
  {
   "cell_type": "code",
   "execution_count": 36,
   "id": "c2cccb21",
   "metadata": {},
   "outputs": [
    {
     "name": "stdout",
     "output_type": "stream",
     "text": [
      "(525, 900, 3) 900 525\n",
      "{'Note Number English': [1803, 50, 1908, 187]}\n",
      "{'Note Number English': [1803, 50, 1908, 187], 'Raised Ink': [694, 20, 1292, 167]}\n",
      "{'Note Number English': [1803, 50, 1908, 187], 'Raised Ink': [694, 20, 1292, 167], 'Mount Everest': [110, 286, 716, 877]}\n",
      "{'Note Number English': [1803, 50, 1908, 187], 'Raised Ink': [694, 20, 1292, 167], 'Mount Everest': [110, 286, 716, 877], 'Pagoda': [805, 302, 1268, 825]}\n",
      "{'Note Number English': [1803, 50, 1908, 187], 'Raised Ink': [694, 20, 1292, 167], 'Mount Everest': [110, 286, 716, 877], 'Pagoda': [805, 302, 1268, 825], 'Intaglio Print': [1510, 58, 1750, 300]}\n",
      "Image/Crop/5/Note Number English.jpg\n",
      "Image/Crop/5/Note Number English.jpg\n",
      "Image/Crop/5/Raised Ink.jpg\n",
      "Image/Crop/5/Raised Ink.jpg\n",
      "Image/Crop/5/Mount Everest.jpg\n",
      "Image/Crop/5/Mount Everest.jpg\n",
      "Image/Crop/5/Pagoda.jpg\n",
      "Image/Crop/5/Pagoda.jpg\n",
      "Image/Crop/5/Intaglio Print.jpg\n",
      "Image/Crop/5/Intaglio Print.jpg\n"
     ]
    }
   ],
   "source": [
    "# For Note 5\n",
    "filepath = 'Image/5.jpg'\n",
    "img = cv2.imread(filepath)\n",
    "windowName = 'Rupees 5'\n",
    "\n",
    "obj = Crop()\n",
    "\n",
    "obj.display(windowName , img)\n",
    "\n",
    "# Save Cropped Image\n",
    "directory = 'Image/Crop/5/'\n",
    "obj.save_crop(directory,img)"
   ]
  },
  {
   "cell_type": "code",
   "execution_count": 23,
   "id": "caf23f1f",
   "metadata": {},
   "outputs": [
    {
     "name": "stdout",
     "output_type": "stream",
     "text": [
      "{'Mount Everest': [35, 60, 279, 295]}\n",
      "{'Mount Everest': [35, 60, 279, 295], 'God Indra': [277, 42, 506, 353]}\n",
      "Image/Crop/10/Mount Everest.jpg\n",
      "Image/Crop/10/Mount Everest.jpg\n",
      "Image/Crop/10/God Indra.jpg\n",
      "Image/Crop/10/God Indra.jpg\n"
     ]
    }
   ],
   "source": [
    "# For Note 10\n",
    "filepath = 'Image/10.jpg'\n",
    "img = cv2.imread(filepath)\n",
    "windowName = 'Rupees 10'\n",
    "\n",
    "obj = Crop()\n",
    "\n",
    "obj.display(windowName , img)\n",
    "\n",
    "# Save Cropped Image\n",
    "directory = 'Image/Crop/10/'\n",
    "obj.save_crop(directory,img)"
   ]
  },
  {
   "cell_type": "code",
   "execution_count": 37,
   "id": "18a26281",
   "metadata": {},
   "outputs": [
    {
     "name": "stdout",
     "output_type": "stream",
     "text": [
      "(897, 900, 3) 900 897\n",
      "{'Note Number Nepali': [6, 6, 36, 31]}\n",
      "{'Note Number Nepali': [6, 6, 36, 31], 'Note Number English': [268, 5, 299, 28]}\n",
      "{'Note Number Nepali': [6, 6, 36, 31], 'Note Number English': [268, 5, 299, 28], 'Raised Ink': [115, 18, 202, 45]}\n",
      "{'Note Number Nepali': [6, 6, 36, 31], 'Note Number English': [268, 5, 299, 28], 'Raised Ink': [115, 18, 202, 45], 'Mount Everest': [17, 29, 117, 128]}\n",
      "{'Note Number Nepali': [6, 6, 36, 31], 'Note Number English': [268, 5, 299, 28], 'Raised Ink': [115, 18, 202, 45], 'Mount Everest': [17, 29, 117, 128], 'Security Thread': [121, 51, 132, 137]}\n",
      "{'Note Number Nepali': [6, 6, 36, 31], 'Note Number English': [268, 5, 299, 28], 'Raised Ink': [115, 18, 202, 45], 'Mount Everest': [17, 29, 117, 128], 'Security Thread': [121, 51, 132, 137], 'Intaglio Print': [228, 5, 273, 45]}\n",
      "Image/Crop/20/Note Number Nepali.jpg\n",
      "Image/Crop/20/Note Number Nepali.jpg\n",
      "Image/Crop/20/Note Number English.jpg\n",
      "Image/Crop/20/Note Number English.jpg\n",
      "Image/Crop/20/Raised Ink.jpg\n",
      "Image/Crop/20/Raised Ink.jpg\n",
      "Image/Crop/20/Mount Everest.jpg\n",
      "Image/Crop/20/Mount Everest.jpg\n",
      "Image/Crop/20/Security Thread.jpg\n",
      "Image/Crop/20/Security Thread.jpg\n",
      "Image/Crop/20/Intaglio Print.jpg\n",
      "Image/Crop/20/Intaglio Print.jpg\n"
     ]
    }
   ],
   "source": [
    "# For Note 20\n",
    "filepath = 'Image/20.jpg'\n",
    "img = cv2.imread(filepath)\n",
    "windowName = 'Rupees 20'\n",
    "\n",
    "obj = Crop()\n",
    "\n",
    "obj.display(windowName , img)\n",
    "\n",
    "# Save Cropped Image\n",
    "directory = 'Image/Crop/20/'\n",
    "obj.save_crop(directory,img)"
   ]
  },
  {
   "cell_type": "code",
   "execution_count": 44,
   "id": "8d6da071",
   "metadata": {},
   "outputs": [
    {
     "name": "stdout",
     "output_type": "stream",
     "text": [
      "(436, 900, 3) 900 436\n",
      "{'Note Number Nepali': [227, 154, 844, 586]}\n",
      "{'Note Number Nepali': [227, 154, 844, 586], 'Note Number English': [5845, 154, 6408, 586]}\n",
      "{'Note Number Nepali': [227, 154, 844, 586], 'Note Number English': [5845, 154, 6408, 586], 'Raised Ink': [2433, 339, 4475, 890]}\n",
      "{'Note Number Nepali': [227, 154, 844, 586], 'Note Number English': [5845, 154, 6408, 586], 'Raised Ink': [2433, 339, 4475, 890], 'Intaglio Print': [4811, 101, 5646, 921]}\n",
      "{'Note Number Nepali': [227, 154, 844, 586], 'Note Number English': [5845, 154, 6408, 586], 'Raised Ink': [2433, 339, 4475, 890], 'Intaglio Print': [4811, 101, 5646, 921], 'Mount Everest': [608, 665, 2541, 2440]}\n",
      "Image/Crop/50/Note Number Nepali.jpg\n",
      "Image/Crop/50/Note Number Nepali.jpg\n",
      "Image/Crop/50/Note Number English.jpg\n",
      "Image/Crop/50/Note Number English.jpg\n",
      "Image/Crop/50/Raised Ink.jpg\n",
      "Image/Crop/50/Raised Ink.jpg\n",
      "Image/Crop/50/Intaglio Print.jpg\n",
      "Image/Crop/50/Intaglio Print.jpg\n",
      "Image/Crop/50/Mount Everest.jpg\n",
      "Image/Crop/50/Mount Everest.jpg\n"
     ]
    }
   ],
   "source": [
    "# For Note 50\n",
    "filepath = 'Image/50.jpg'\n",
    "img = cv2.imread(filepath)\n",
    "windowName = 'Rupees 50'\n",
    "\n",
    "obj = Crop()\n",
    "\n",
    "obj.display(windowName , img)\n",
    "\n",
    "# Save Cropped Image\n",
    "directory = 'Image/Crop/50/'\n",
    "obj.save_crop(directory,img)"
   ]
  },
  {
   "cell_type": "code",
   "execution_count": 48,
   "id": "16fa1a6e",
   "metadata": {},
   "outputs": [
    {
     "name": "stdout",
     "output_type": "stream",
     "text": [
      "(423, 900, 3) 900 423\n",
      "{'Note Number Nepali': [152, 2731, 739, 3132]}\n",
      "{'Note Number Nepali': [152, 2731, 739, 3132], 'Note Number English': [6285, 2731, 6797, 3132]}\n",
      "{'Note Number Nepali': [152, 2731, 739, 3132], 'Note Number English': [5318, 103, 6152, 959]}\n",
      "{'Note Number Nepali': [152, 2731, 739, 3132], 'Note Number English': [5318, 103, 6152, 959], 'See Through Register': [4749, 1075, 5071, 1950]}\n",
      "{'Note Number Nepali': [152, 2731, 739, 3132], 'Note Number English': [5318, 103, 6152, 959], 'See Through Register': [4749, 1075, 5071, 1950], 'Security Thread': [4379, 669, 4664, 2017]}\n",
      "{'Note Number Nepali': [152, 2731, 739, 3132], 'Note Number English': [5318, 103, 6152, 959], 'See Through Register': [4749, 1075, 5071, 1950], 'Security Thread': [4379, 669, 4664, 2017], 'Raised Ink': [2777, 451, 4266, 932]}\n",
      "{'Note Number Nepali': [152, 2731, 739, 3132], 'Note Number English': [5318, 103, 6152, 959], 'See Through Register': [4749, 1075, 5071, 1950], 'Security Thread': [4379, 669, 4664, 2017], 'Raised Ink': [2777, 451, 4266, 932], 'Pagoda': [3337, 1584, 4920, 3128]}\n",
      "{'Note Number Nepali': [152, 2731, 739, 3132], 'Note Number English': [5318, 103, 6152, 959], 'See Through Register': [4749, 1075, 5071, 1950], 'Security Thread': [4379, 669, 4664, 2017], 'Raised Ink': [2777, 451, 4266, 932], 'Pagoda': [3337, 1584, 4920, 3128], 'Intaglio Print 1': [2247, 2070, 3232, 3145]}\n",
      "{'Note Number Nepali': [152, 2731, 739, 3132], 'Note Number English': [5318, 103, 6152, 959], 'See Through Register': [4749, 1075, 5071, 1950], 'Security Thread': [4379, 669, 4664, 2017], 'Raised Ink': [2777, 451, 4266, 932], 'Pagoda': [3337, 1584, 4920, 3128], 'Intaglio Print 1': [2247, 2070, 3232, 3145], 'Intaglio Print 2': [5318, 103, 6133, 955]}\n",
      "Image/Crop/100/Note Number Nepali.jpg\n",
      "Image/Crop/100/Note Number Nepali.jpg\n",
      "Image/Crop/100/Note Number English.jpg\n",
      "Image/Crop/100/Note Number English.jpg\n",
      "Image/Crop/100/See Through Register.jpg\n",
      "Image/Crop/100/See Through Register.jpg\n",
      "Image/Crop/100/Security Thread.jpg\n",
      "Image/Crop/100/Security Thread.jpg\n",
      "Image/Crop/100/Raised Ink.jpg\n",
      "Image/Crop/100/Raised Ink.jpg\n",
      "Image/Crop/100/Pagoda.jpg\n",
      "Image/Crop/100/Pagoda.jpg\n",
      "Image/Crop/100/Intaglio Print 1.jpg\n",
      "Image/Crop/100/Intaglio Print 1.jpg\n",
      "Image/Crop/100/Intaglio Print 2.jpg\n",
      "Image/Crop/100/Intaglio Print 2.jpg\n"
     ]
    }
   ],
   "source": [
    "# For Note 100\n",
    "filepath = 'Image/100.jpg'\n",
    "img = cv2.imread(filepath)\n",
    "windowName = 'Rupees 100'\n",
    "\n",
    "obj = Crop()\n",
    "\n",
    "obj.display(windowName , img)\n",
    "\n",
    "# Save Cropped Image\n",
    "directory = 'Image/Crop/100/'\n",
    "obj.save_crop(directory,img)"
   ]
  },
  {
   "cell_type": "code",
   "execution_count": 50,
   "id": "1f49cc1a",
   "metadata": {},
   "outputs": [
    {
     "name": "stdout",
     "output_type": "stream",
     "text": [
      "(397, 900, 3) 900 397\n",
      "{'Note Number Nepali': [12, 286, 89, 334]}\n",
      "{'Note Number Nepali': [12, 286, 89, 334], 'Note Number English': [707, 286, 787, 337]}\n",
      "{'Note Number Nepali': [12, 286, 89, 334], 'Note Number English': [707, 286, 787, 337], 'Mount Everest': [31, 59, 282, 294]}\n",
      "{'Note Number Nepali': [12, 286, 89, 334], 'Note Number English': [707, 286, 787, 337], 'Mount Everest': [31, 59, 282, 294], 'Raised Ink': [326, 42, 497, 110]}\n",
      "{'Note Number Nepali': [12, 286, 89, 334], 'Note Number English': [707, 286, 787, 337], 'Mount Everest': [31, 59, 282, 294], 'Raised Ink': [326, 42, 497, 110], 'Security Thread': [418, 79, 480, 316]}\n",
      "{'Note Number Nepali': [12, 286, 89, 334], 'Note Number English': [707, 286, 787, 337], 'Mount Everest': [31, 59, 282, 294], 'Raised Ink': [326, 42, 497, 110], 'Security Thread': [418, 79, 480, 316], 'See Through Register': [480, 125, 529, 239]}\n",
      "{'Note Number Nepali': [12, 286, 89, 334], 'Note Number English': [707, 286, 787, 337], 'Mount Everest': [31, 59, 282, 294], 'Raised Ink': [326, 42, 497, 110], 'Security Thread': [418, 79, 480, 316], 'See Through Register': [480, 125, 529, 239], 'Braille': [509, 172, 548, 239]}\n",
      "{'Note Number Nepali': [12, 286, 89, 334], 'Note Number English': [707, 286, 787, 337], 'Mount Everest': [31, 59, 282, 294], 'Raised Ink': [326, 42, 497, 110], 'Security Thread': [418, 79, 480, 316], 'See Through Register': [480, 125, 529, 239], 'Braille': [509, 172, 548, 239], 'Intaglio Print 1': [597, 13, 697, 113]}\n",
      "{'Note Number Nepali': [12, 286, 89, 334], 'Note Number English': [707, 286, 787, 337], 'Mount Everest': [31, 59, 282, 294], 'Raised Ink': [326, 42, 497, 110], 'Security Thread': [418, 79, 480, 316], 'See Through Register': [480, 125, 529, 239], 'Braille': [509, 172, 548, 239], 'Intaglio Print 1': [597, 13, 697, 113], 'Intaglio Print 2': [225, 181, 366, 343]}\n",
      "{'Note Number Nepali': [12, 286, 89, 334], 'Note Number English': [707, 286, 787, 337], 'Mount Everest': [31, 59, 282, 294], 'Raised Ink': [326, 42, 497, 110], 'Security Thread': [418, 79, 480, 316], 'See Through Register': [480, 125, 529, 239], 'Braille': [509, 172, 548, 239], 'Intaglio Print 1': [597, 13, 697, 113], 'Intaglio Print 2': [225, 181, 366, 343], 'Pagoda': [334, 131, 486, 325]}\n",
      "Image/Crop/500/Note Number Nepali.jpg\n",
      "Image/Crop/500/Note Number Nepali.jpg\n",
      "Image/Crop/500/Note Number English.jpg\n",
      "Image/Crop/500/Note Number English.jpg\n",
      "Image/Crop/500/Mount Everest.jpg\n",
      "Image/Crop/500/Mount Everest.jpg\n",
      "Image/Crop/500/Raised Ink.jpg\n",
      "Image/Crop/500/Raised Ink.jpg\n",
      "Image/Crop/500/Security Thread.jpg\n",
      "Image/Crop/500/Security Thread.jpg\n",
      "Image/Crop/500/See Through Register.jpg\n",
      "Image/Crop/500/See Through Register.jpg\n",
      "Image/Crop/500/Braille.jpg\n",
      "Image/Crop/500/Braille.jpg\n",
      "Image/Crop/500/Intaglio Print 1.jpg\n",
      "Image/Crop/500/Intaglio Print 1.jpg\n",
      "Image/Crop/500/Intaglio Print 2.jpg\n",
      "Image/Crop/500/Intaglio Print 2.jpg\n",
      "Image/Crop/500/Pagoda.jpg\n",
      "Image/Crop/500/Pagoda.jpg\n"
     ]
    }
   ],
   "source": [
    "# For Note 500\n",
    "filepath = 'Image/500.jpg'\n",
    "img = cv2.imread(filepath)\n",
    "windowName = 'Rupees 500'\n",
    "\n",
    "obj = Crop()\n",
    "\n",
    "obj.display(windowName , img)\n",
    "\n",
    "# Save Cropped Image\n",
    "directory = 'Image/Crop/500/'\n",
    "obj.save_crop(directory,img)"
   ]
  },
  {
   "cell_type": "code",
   "execution_count": 51,
   "id": "b3e32c46",
   "metadata": {},
   "outputs": [
    {
     "name": "stdout",
     "output_type": "stream",
     "text": [
      "(366, 900, 3) 900 366\n",
      "{'Note Number Nepali': [13, 391, 141, 481]}\n",
      "{'Note Number Nepali': [13, 391, 141, 481], 'Note Number English': [1058, 378, 1174, 443]}\n",
      "{'Note Number Nepali': [13, 391, 141, 481], 'Note Number English': [1058, 378, 1174, 443], 'Raised Ink': [499, 99, 764, 191]}\n",
      "{'Note Number Nepali': [13, 391, 141, 481], 'Note Number English': [1058, 378, 1174, 443], 'Raised Ink': [499, 99, 764, 191], 'Intaglio Print 1': [950, 19, 1085, 153]}\n",
      "{'Note Number Nepali': [13, 391, 141, 481], 'Note Number English': [1058, 378, 1174, 443], 'Raised Ink': [499, 99, 764, 191], 'Intaglio Print 1': [950, 19, 1085, 153], 'Intaglio Print 2': [312, 183, 489, 388]}\n",
      "{'Note Number Nepali': [13, 391, 141, 481], 'Note Number English': [1058, 378, 1174, 443], 'Raised Ink': [499, 99, 764, 191], 'Intaglio Print 1': [950, 19, 1085, 153], 'Intaglio Print 2': [312, 183, 489, 388], 'Mount Everest': [52, 91, 367, 401]}\n",
      "{'Note Number Nepali': [13, 391, 141, 481], 'Note Number English': [1058, 378, 1174, 443], 'Raised Ink': [499, 99, 764, 191], 'Intaglio Print 1': [950, 19, 1085, 153], 'Intaglio Print 2': [312, 183, 489, 388], 'Mount Everest': [52, 91, 367, 401], 'Security Thread': [646, 66, 714, 399]}\n",
      "{'Note Number Nepali': [13, 391, 141, 481], 'Note Number English': [1058, 378, 1174, 443], 'Raised Ink': [499, 99, 764, 191], 'Intaglio Print 1': [950, 19, 1085, 153], 'Intaglio Print 2': [312, 183, 489, 388], 'Mount Everest': [52, 91, 367, 401], 'Security Thread': [646, 66, 714, 399], 'See Through Register': [778, 220, 841, 374]}\n",
      "{'Note Number Nepali': [13, 391, 141, 481], 'Note Number English': [1058, 378, 1174, 443], 'Raised Ink': [499, 99, 764, 191], 'Intaglio Print 1': [950, 19, 1085, 153], 'Intaglio Print 2': [312, 183, 489, 388], 'Mount Everest': [52, 91, 367, 401], 'Security Thread': [646, 66, 714, 399], 'See Through Register': [778, 220, 841, 374], 'Braille': [827, 255, 882, 365]}\n",
      "{'Note Number Nepali': [13, 391, 141, 481], 'Note Number English': [1058, 378, 1174, 443], 'Raised Ink': [499, 99, 764, 191], 'Intaglio Print 1': [950, 19, 1085, 153], 'Intaglio Print 2': [312, 183, 489, 388], 'Mount Everest': [52, 91, 367, 401], 'Security Thread': [646, 66, 714, 399], 'See Through Register': [778, 220, 841, 374], 'Braille': [827, 255, 882, 365], 'Pagoda': [470, 74, 628, 416]}\n",
      "Image/Crop/1000/Note Number Nepali.jpg\n",
      "Image/Crop/1000/Note Number Nepali.jpg\n",
      "Image/Crop/1000/Note Number English.jpg\n",
      "Image/Crop/1000/Note Number English.jpg\n",
      "Image/Crop/1000/Raised Ink.jpg\n",
      "Image/Crop/1000/Raised Ink.jpg\n",
      "Image/Crop/1000/Intaglio Print 1.jpg\n",
      "Image/Crop/1000/Intaglio Print 1.jpg\n",
      "Image/Crop/1000/Intaglio Print 2.jpg\n",
      "Image/Crop/1000/Intaglio Print 2.jpg\n",
      "Image/Crop/1000/Mount Everest.jpg\n",
      "Image/Crop/1000/Mount Everest.jpg\n",
      "Image/Crop/1000/Security Thread.jpg\n",
      "Image/Crop/1000/Security Thread.jpg\n",
      "Image/Crop/1000/See Through Register.jpg\n",
      "Image/Crop/1000/See Through Register.jpg\n",
      "Image/Crop/1000/Braille.jpg\n",
      "Image/Crop/1000/Braille.jpg\n",
      "Image/Crop/1000/Pagoda.jpg\n",
      "Image/Crop/1000/Pagoda.jpg\n"
     ]
    }
   ],
   "source": [
    "# For Note 1000\n",
    "filepath = 'Image/1000.jpg'\n",
    "img = cv2.imread(filepath)\n",
    "windowName = 'Rupees 1000'\n",
    "\n",
    "obj = Crop()\n",
    "\n",
    "obj.display(windowName , img)\n",
    "\n",
    "# Save Cropped Image\n",
    "directory = 'Image/Crop/1000/'\n",
    "obj.save_crop(directory,img)"
   ]
  },
  {
   "cell_type": "code",
   "execution_count": null,
   "id": "74d31c00",
   "metadata": {},
   "outputs": [],
   "source": []
  }
 ],
 "metadata": {
  "kernelspec": {
   "display_name": "Python 3 (ipykernel)",
   "language": "python",
   "name": "python3"
  },
  "language_info": {
   "codemirror_mode": {
    "name": "ipython",
    "version": 3
   },
   "file_extension": ".py",
   "mimetype": "text/x-python",
   "name": "python",
   "nbconvert_exporter": "python",
   "pygments_lexer": "ipython3",
   "version": "3.10.9"
  }
 },
 "nbformat": 4,
 "nbformat_minor": 5
}
