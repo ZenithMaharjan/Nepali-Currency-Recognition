{
 "cells": [
  {
   "cell_type": "code",
   "execution_count": 1,
   "metadata": {
    "colab": {
     "base_uri": "https://localhost:8080/"
    },
    "executionInfo": {
     "elapsed": 22461,
     "status": "ok",
     "timestamp": 1697945955555,
     "user": {
      "displayName": "Zenith Maharjan",
      "userId": "16907590510669571935"
     },
     "user_tz": -345
    },
    "id": "O9FYq8J-HRkN",
    "outputId": "545f1830-6320-41df-ab12-adfce5146249"
   },
   "outputs": [
    {
     "name": "stdout",
     "output_type": "stream",
     "text": [
      "Mounted at /content/drive\n"
     ]
    }
   ],
   "source": [
    "from google.colab import drive\n",
    "drive.mount('/content/drive')"
   ]
  },
  {
   "cell_type": "code",
   "execution_count": 2,
   "metadata": {
    "executionInfo": {
     "elapsed": 4,
     "status": "ok",
     "timestamp": 1697945955555,
     "user": {
      "displayName": "Zenith Maharjan",
      "userId": "16907590510669571935"
     },
     "user_tz": -345
    },
    "id": "jI81Js0jhrIL"
   },
   "outputs": [],
   "source": [
    "train_dir = \"/content/drive/MyDrive/NepaliCurrency/train\"\n",
    "valid_dir = \"/content/drive/MyDrive/NepaliCurrency/valid\"\n",
    "categories = ['fifty','five','fivehundred','hundred','ten','thousand','twenty']"
   ]
  },
  {
   "cell_type": "code",
   "execution_count": null,
   "metadata": {
    "colab": {
     "base_uri": "https://localhost:8080/"
    },
    "executionInfo": {
     "elapsed": 77096,
     "status": "ok",
     "timestamp": 1697604660963,
     "user": {
      "displayName": "Zenith Maharjan",
      "userId": "16907590510669571935"
     },
     "user_tz": -345
    },
    "id": "XaXimbNblzZn",
    "outputId": "998ce551-f42c-4cb0-89b0-50ae50d28779"
   },
   "outputs": [
    {
     "name": "stdout",
     "output_type": "stream",
     "text": [
      "There are 2589 fifty training images\n",
      "There are 1499 five training images\n",
      "There are 2357 fivehundred training images\n",
      "There are 2478 hundred training images\n",
      "There are 3019 ten training images\n",
      "There are 2423 thousand training images\n",
      "There are 2537 twenty training images\n"
     ]
    }
   ],
   "source": [
    "# Counting the number of image in each train and valid directory.\n",
    "import os\n",
    "for category in categories:\n",
    "  print(\"There are {} {} training images\".format(len(os.listdir(os.path.join(train_dir,category))),category))"
   ]
  },
  {
   "cell_type": "code",
   "execution_count": null,
   "metadata": {
    "colab": {
     "base_uri": "https://localhost:8080/"
    },
    "executionInfo": {
     "elapsed": 20287,
     "status": "ok",
     "timestamp": 1697604681241,
     "user": {
      "displayName": "Zenith Maharjan",
      "userId": "16907590510669571935"
     },
     "user_tz": -345
    },
    "id": "RmviPr4fmUG8",
    "outputId": "461482ab-8f31-4abe-dff3-b3b41769590b"
   },
   "outputs": [
    {
     "name": "stdout",
     "output_type": "stream",
     "text": [
      "There are 515 fifty training images\n",
      "There are 501 five training images\n",
      "There are 501 fivehundred training images\n",
      "There are 521 hundred training images\n",
      "There are 445 ten training images\n",
      "There are 501 thousand training images\n",
      "There are 350 twenty training images\n"
     ]
    }
   ],
   "source": [
    "for category in categories:\n",
    "  print(\"There are {} {} training images\".format(len(os.listdir(os.path.join(valid_dir,category))),category))"
   ]
  },
  {
   "cell_type": "code",
   "execution_count": null,
   "metadata": {
    "id": "cp3yMZAar-wD"
   },
   "outputs": [],
   "source": [
    "# Visualizing the training and validation images"
   ]
  },
  {
   "cell_type": "code",
   "execution_count": null,
   "metadata": {
    "id": "0Nd_nDhTsw9Z"
   },
   "outputs": [],
   "source": [
    "import matplotlib.pyplot as plt\n",
    "import matplotlib.image as mpimg\n",
    "def visualize_images(images_path,rows,cols):\n",
    "  fig = plt.figure(figsize=(20,20))\n",
    "  rows = rows\n",
    "  cols = cols\n",
    "  for i in range(1,rows*cols+1):\n",
    "    fig.add_subplot(rows,cols,i)\n",
    "    img_array = mpimg.imread(images_path[i-1])\n",
    "    plt.imshow(img_array)\n",
    "  plt.show()"
   ]
  },
  {
   "cell_type": "code",
   "execution_count": null,
   "metadata": {
    "colab": {
     "base_uri": "https://localhost:8080/",
     "height": 1000,
     "output_embedded_package_id": "15ibjkhtMGE5IhQuJnOBndqkHSrNzVJvJ"
    },
    "executionInfo": {
     "elapsed": 52469,
     "status": "ok",
     "timestamp": 1697604733705,
     "user": {
      "displayName": "Zenith Maharjan",
      "userId": "16907590510669571935"
     },
     "user_tz": -345
    },
    "id": "FzvxEc2Ftz4U",
    "outputId": "d7c43eb0-1c8d-4196-bb5e-8d2d994fa7e4"
   },
   "outputs": [
    {
     "data": {
      "text/plain": [
       "Output hidden; open in https://colab.research.google.com to view."
      ]
     },
     "metadata": {},
     "output_type": "display_data"
    }
   ],
   "source": [
    "# Visualizing Training Images\n",
    "visualize_images(training_image_paths,7,5)"
   ]
  },
  {
   "cell_type": "code",
   "execution_count": null,
   "metadata": {
    "colab": {
     "base_uri": "https://localhost:8080/",
     "height": 1000,
     "output_embedded_package_id": "1-Zjpo1cy5qebe18pyJ1cI3PwHsL5ehAz"
    },
    "executionInfo": {
     "elapsed": 32714,
     "status": "ok",
     "timestamp": 1697604766414,
     "user": {
      "displayName": "Zenith Maharjan",
      "userId": "16907590510669571935"
     },
     "user_tz": -345
    },
    "id": "OK29-wfiuE1C",
    "outputId": "6121d06c-5cd4-4dc7-a61f-5e3472a948b2"
   },
   "outputs": [
    {
     "data": {
      "text/plain": [
       "Output hidden; open in https://colab.research.google.com to view."
      ]
     },
     "metadata": {},
     "output_type": "display_data"
    }
   ],
   "source": [
    "# Visualizing the validation images\n",
    "visualize_images(validation_image_paths,7,5)"
   ]
  },
  {
   "cell_type": "code",
   "execution_count": null,
   "metadata": {
    "id": "hq2jUoV8N9UV"
   },
   "outputs": [],
   "source": [
    "import cv2\n",
    "def change_shape(data_dir):\n",
    "  for category in categories:\n",
    "    path = os.path.join(data_dir,category)\n",
    "    for img in os.listdir(path):\n",
    "      img_array = cv2.imread(os.path.join(os.path.join(path,img)))\n",
    "      resized_img_array = cv2.resize(img_array,(640,640))\n",
    "      cv2.imwrite(os.path.join(path,img),resized_img_array)"
   ]
  },
  {
   "cell_type": "code",
   "execution_count": null,
   "metadata": {
    "id": "dw6a-GeON9XQ"
   },
   "outputs": [],
   "source": [
    "change_shape(data_dir= train_dir)"
   ]
  },
  {
   "cell_type": "code",
   "execution_count": null,
   "metadata": {
    "id": "5p057afMN9RW"
   },
   "outputs": [],
   "source": [
    "change_shape(data_dir = valid_dir)"
   ]
  },
  {
   "cell_type": "code",
   "execution_count": null,
   "metadata": {
    "colab": {
     "base_uri": "https://localhost:8080/",
     "height": 1000,
     "output_embedded_package_id": "1Nf8sZUpAVL4dYmO5f62DeQnH2XGBEDOn"
    },
    "executionInfo": {
     "elapsed": 21000,
     "status": "ok",
     "timestamp": 1697607165160,
     "user": {
      "displayName": "Zenith Maharjan",
      "userId": "16907590510669571935"
     },
     "user_tz": -345
    },
    "id": "h2h3VEsdcrY5",
    "outputId": "cff2bcb4-3858-47b5-afae-5d6a92dba97a"
   },
   "outputs": [
    {
     "data": {
      "text/plain": [
       "Output hidden; open in https://colab.research.google.com to view."
      ]
     },
     "metadata": {},
     "output_type": "display_data"
    }
   ],
   "source": [
    "visualize_images(training_image_paths,7,5)"
   ]
  },
  {
   "cell_type": "code",
   "execution_count": null,
   "metadata": {
    "colab": {
     "base_uri": "https://localhost:8080/",
     "height": 1000,
     "output_embedded_package_id": "1odZwHpx4aj66kJh_oC2FyL6i2Z36pxBw"
    },
    "executionInfo": {
     "elapsed": 16580,
     "status": "ok",
     "timestamp": 1697607181736,
     "user": {
      "displayName": "Zenith Maharjan",
      "userId": "16907590510669571935"
     },
     "user_tz": -345
    },
    "id": "PEosatAfcrTA",
    "outputId": "2133d128-3bff-4247-fa04-094bb44143e9"
   },
   "outputs": [
    {
     "data": {
      "text/plain": [
       "Output hidden; open in https://colab.research.google.com to view."
      ]
     },
     "metadata": {},
     "output_type": "display_data"
    }
   ],
   "source": [
    "visualize_images(validation_image_paths,7,5)"
   ]
  },
  {
   "cell_type": "code",
   "execution_count": null,
   "metadata": {
    "id": "SFpcFkVMfU_r"
   },
   "outputs": [],
   "source": [
    "def get_shapes(data_dir):\n",
    "  dict = {}\n",
    "  for category in categories:\n",
    "    path = os.path.join(data_dir,category)\n",
    "    for img in os.listdir(path):\n",
    "      img_array = cv2.imread(os.path.join(path,img))\n",
    "      shapes = img_array.shape\n",
    "      if shapes not in dict:\n",
    "        dict[shapes] = 1\n",
    "      else:\n",
    "        dict[shapes] += 1\n",
    "  return dict\n"
   ]
  },
  {
   "cell_type": "code",
   "execution_count": null,
   "metadata": {
    "id": "im2XM0CMucRz"
   },
   "outputs": [],
   "source": [
    "# Loading the Data Generators"
   ]
  },
  {
   "cell_type": "code",
   "execution_count": null,
   "metadata": {},
   "outputs": [],
   "source": [
    "import numpy as np\n",
    "import cv2\n",
    "import matplotlib.pyplot as plt\n",
    "\n",
    "def PreProcessor(image):\n",
    "#     image = cv2.cvtColor(image , cv2.COLOR_BGR2GRAY)\n",
    "    image = cv2.GaussianBlur(image,(5,5),0)\n",
    "    image = image.astype(np.uint8)\n",
    "    image = cv2.Canny(image,130,150)\n",
    "    image = np.expand_dims(image, axis=2)\n",
    "    return image\n"
   ]
  },
  {
   "cell_type": "code",
   "execution_count": 4,
   "metadata": {
    "executionInfo": {
     "elapsed": 4009,
     "status": "ok",
     "timestamp": 1697945975542,
     "user": {
      "displayName": "Zenith Maharjan",
      "userId": "16907590510669571935"
     },
     "user_tz": -345
    },
    "id": "AsugNZTmumzH"
   },
   "outputs": [],
   "source": [
    "from keras.preprocessing.image import ImageDataGenerator\n",
    "from keras.preprocessing.image import load_img,img_to_array\n",
    "\n",
    "train_datagen = ImageDataGenerator(\n",
    "        rescale = 1./255,\n",
    "        shear_range = 0.2,\n",
    "        zoom_range = 0.2,\n",
    "\n",
    "        preprocessing_function = PreProcessor,\n",
    "        horizontal_flip = True)\n",
    "\n",
    "training_set = train_datagen.flow_from_directory(\n",
    "                '/content/drive/MyDrive/Nepali Notes/training' ,\n",
    "                target_size = (640,640) ,\n",
    "                color_mode=\"grayscale\",\n",
    "                batch_size = 32 ,\n",
    "                class_mode = 'categorical')"
   ]
  },
  {
   "cell_type": "code",
   "execution_count": null,
   "metadata": {},
   "outputs": [],
   "source": [
    "test_datagen = ImageDataGenerator(rescale = 1./255, preprocessing_function = PreProcessor,)\n",
    "test_set = test_datagen.flow_from_directory(\n",
    "                    '/content/drive/MyDrive/Nepali Notes/test',\n",
    "                    target_size = (640,640) ,\n",
    "                    batch_size = 32 ,\n",
    "                    color_mode=\"grayscale\",\n",
    "                    class_mode = 'categorical')"
   ]
  },
  {
   "cell_type": "code",
   "execution_count": null,
   "metadata": {},
   "outputs": [],
   "source": [
    "import os\n",
    "from PIL import Image\n",
    "\n",
    "# Create a directory to save images\n",
    "save_dir = 'training_data'\n",
    "os.makedirs(save_dir, exist_ok=True)\n",
    "\n",
    "# Iterate over the training set and save each image\n",
    "for i, (images, labels) in enumerate(training_set):\n",
    "    for j in range(len(images)):\n",
    "        image = images[j]\n",
    "        label = labels[j]\n",
    "        image_path = os.path.join(save_dir, f'image_{i * training_set.batch_size + j}.jpg')\n",
    "        image = Image.fromarray((image * 255).astype('uint8'))  # Convert image back to uint8 format\n",
    "        image.save(image_path)\n",
    "    if (i + 1) * training_set.batch_size >= len(training_set.filenames):\n",
    "        break  # Break once all images are processed"
   ]
  },
  {
   "cell_type": "code",
   "execution_count": null,
   "metadata": {},
   "outputs": [],
   "source": [
    "import os\n",
    "from PIL import Image\n",
    "\n",
    "# Create a directory to save images\n",
    "save_dir = 'testing_data'\n",
    "os.makedirs(save_dir, exist_ok=True)\n",
    "\n",
    "# Iterate over the training set and save each image\n",
    "for i, (images, labels) in enumerate(testing_set):\n",
    "    for j in range(len(images)):\n",
    "        image = images[j]\n",
    "        label = labels[j]\n",
    "        image_path = os.path.join(save_dir, f'image_{i * testing_set.batch_size + j}.jpg')\n",
    "        image = Image.fromarray((image * 255).astype('uint8'))  # Convert image back to uint8 format\n",
    "        image.save(image_path)\n",
    "    if (i + 1) * testing_set.batch_size >= len(testing_set.filenames):\n",
    "        break  # Break once all images are processed"
   ]
  },
  {
   "cell_type": "code",
   "execution_count": null,
   "metadata": {
    "id": "PlCHZDBh904J"
   },
   "outputs": [],
   "source": []
  }
 ],
 "metadata": {
  "colab": {
   "provenance": []
  },
  "kernelspec": {
   "display_name": "Python 3 (ipykernel)",
   "language": "python",
   "name": "python3"
  },
  "language_info": {
   "codemirror_mode": {
    "name": "ipython",
    "version": 3
   },
   "file_extension": ".py",
   "mimetype": "text/x-python",
   "name": "python",
   "nbconvert_exporter": "python",
   "pygments_lexer": "ipython3",
   "version": "3.10.9"
  }
 },
 "nbformat": 4,
 "nbformat_minor": 1
}
